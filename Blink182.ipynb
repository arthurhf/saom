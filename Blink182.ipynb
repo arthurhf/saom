{
  "nbformat": 4,
  "nbformat_minor": 0,
  "metadata": {
    "colab": {
      "name": "Blink182.ipynb",
      "provenance": [],
      "authorship_tag": "ABX9TyO7RsIx6plm1HsqWypLygxr",
      "include_colab_link": true
    },
    "kernelspec": {
      "name": "python3",
      "display_name": "Python 3"
    },
    "language_info": {
      "name": "python"
    }
  },
  "cells": [
    {
      "cell_type": "markdown",
      "metadata": {
        "id": "view-in-github",
        "colab_type": "text"
      },
      "source": [
        "<a href=\"https://colab.research.google.com/github/arthurhf/saom/blob/main/Blink182.ipynb\" target=\"_parent\"><img src=\"https://colab.research.google.com/assets/colab-badge.svg\" alt=\"Open In Colab\"/></a>"
      ]
    },
    {
      "cell_type": "code",
      "metadata": {
        "id": "U9br96X104zK"
      },
      "source": [
        "import nltk\n",
        "from textblob import TextBlob"
      ],
      "execution_count": null,
      "outputs": []
    },
    {
      "cell_type": "code",
      "metadata": {
        "id": "fCFzKzZr4_7Q"
      },
      "source": [
        "with open(\"i-miss-you.txt\", 'rb') as f:\n",
        "  imy = f.read()"
      ],
      "execution_count": null,
      "outputs": []
    },
    {
      "cell_type": "code",
      "metadata": {
        "id": "H4Wr_ePn5ofK"
      },
      "source": [
        "imy = imy.decode('utf-8', 'ignore')\n",
        "\n",
        "imy = imy.replace(\"\\n\",\" \")\n",
        "\n",
        "musicas = {\n",
        "    \"imy\":{\n",
        "        \"letra\":[\n",
        "                 imy\n",
        "        ]\n",
        "    }\n",
        "}"
      ],
      "execution_count": null,
      "outputs": []
    },
    {
      "cell_type": "code",
      "metadata": {
        "id": "WRJGdzQR59Ye"
      },
      "source": [
        "sentimento = []\n",
        "i = 0\n",
        "analise = {}\n",
        "for musica in musicas.keys():\n",
        "  sentimento.append(TextBlob(musicas[musica][\"letra\"][0]))\n",
        "  analise[musica]={\n",
        "          \"Polaridade\": sentimento[i].sentiment.polarity,\n",
        "          \"Subjetividade\": sentimento[i].sentiment.subjectivity\n",
        "      }\n",
        "  i+=1"
      ],
      "execution_count": null,
      "outputs": []
    },
    {
      "cell_type": "code",
      "metadata": {
        "colab": {
          "base_uri": "https://localhost:8080/"
        },
        "id": "Q-al-2EP6_iC",
        "outputId": "e13a86bb-cfa5-473f-c581-a04e62eac896"
      },
      "source": [
        "analise"
      ],
      "execution_count": null,
      "outputs": [
        {
          "output_type": "execute_result",
          "data": {
            "text/plain": [
              "{'imy': {'Polaridade': -0.15024350649350648,\n",
              "  'Subjetividade': 0.28809523809523807}}"
            ]
          },
          "metadata": {
            "tags": []
          },
          "execution_count": 18
        }
      ]
    }
  ]
}
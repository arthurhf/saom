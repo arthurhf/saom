{
  "nbformat": 4,
  "nbformat_minor": 0,
  "metadata": {
    "colab": {
      "name": "Racionais.ipynb",
      "provenance": [],
      "authorship_tag": "ABX9TyMuunH23tq6Q2Cy7tybnfEm",
      "include_colab_link": true
    },
    "kernelspec": {
      "name": "python3",
      "display_name": "Python 3"
    }
  },
  "cells": [
    {
      "cell_type": "markdown",
      "metadata": {
        "id": "view-in-github",
        "colab_type": "text"
      },
      "source": [
        "<a href=\"https://colab.research.google.com/github/arthurhf/saom/blob/main/Racionais.ipynb\" target=\"_parent\"><img src=\"https://colab.research.google.com/assets/colab-badge.svg\" alt=\"Open In Colab\"/></a>"
      ]
    },
    {
      "cell_type": "markdown",
      "metadata": {
        "id": "QQCtx8V0wPK0"
      },
      "source": [
        "Análise de sentimentos de músicas dos Racionais MC's"
      ]
    },
    {
      "cell_type": "code",
      "metadata": {
        "id": "iSDR22jqCflF"
      },
      "source": [
        "import nltk\n",
        "from textblob import TextBlob"
      ],
      "execution_count": null,
      "outputs": []
    },
    {
      "cell_type": "code",
      "metadata": {
        "id": "F7TA86e7z11e"
      },
      "source": [
        "with open(\"/content/diario-de-um-detento.txt\", 'rb') as f:\n",
        "  diario = f.read()\n",
        "\n",
        "diario = diario.decode('utf-8', 'ignore')\n",
        "\n",
        "musicas = {\n",
        "    \"diario\":{\n",
        "        \"letra\":[\n",
        "                 diario\n",
        "        ]\n",
        "    }\n",
        "}"
      ],
      "execution_count": null,
      "outputs": []
    },
    {
      "cell_type": "code",
      "metadata": {
        "colab": {
          "base_uri": "https://localhost:8080/"
        },
        "id": "iSkThr_u1aMu",
        "outputId": "05248c23-babf-4251-a949-3b008adb35b8"
      },
      "source": [
        "musicas.keys()"
      ],
      "execution_count": null,
      "outputs": [
        {
          "output_type": "execute_result",
          "data": {
            "text/plain": [
              "dict_keys(['diario'])"
            ]
          },
          "metadata": {
            "tags": []
          },
          "execution_count": 26
        }
      ]
    },
    {
      "cell_type": "code",
      "metadata": {
        "id": "v7nxZIek1e5W"
      },
      "source": [
        "sentimento = []\n",
        "i = 0\n",
        "analise = {}\n",
        "for musica in musicas.keys():\n",
        "  sentimento.append(TextBlob(musicas[musica][\"letra\"][0]))\n",
        "  analise[musica]={\n",
        "          \"Polaridade\": sentimento[i].sentiment.polarity,\n",
        "          \"Subjetividade\": sentimento[i].sentiment.subjectivity\n",
        "      }\n",
        "  i+=1"
      ],
      "execution_count": null,
      "outputs": []
    },
    {
      "cell_type": "code",
      "metadata": {
        "colab": {
          "base_uri": "https://localhost:8080/"
        },
        "id": "7rWPVRfq2CwA",
        "outputId": "b0346125-9276-4bbf-e816-dc29a8644c95"
      },
      "source": [
        "analise"
      ],
      "execution_count": null,
      "outputs": [
        {
          "output_type": "execute_result",
          "data": {
            "text/plain": [
              "{'diario': {'Polaridade': 0.3333333333333333,\n",
              "  'Subjetividade': 0.43333333333333335}}"
            ]
          },
          "metadata": {
            "tags": []
          },
          "execution_count": 29
        }
      ]
    }
  ]
}